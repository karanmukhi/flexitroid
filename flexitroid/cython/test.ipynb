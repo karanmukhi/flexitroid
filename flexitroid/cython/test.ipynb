{
 "cells": [
  {
   "cell_type": "code",
   "execution_count": 21,
   "metadata": {},
   "outputs": [],
   "source": [
    "import numpy as np\n",
    "from p_fast import p_fast\n",
    "from flexitroid.cython.b_fast import b_fast\n",
    "# Example inputs (adjust these to your actual data)\n",
    "\n",
    "T = 100\n",
    "A = set(np.random.permutation(np.arange(T))[:50].tolist())\n",
    "active = set(np.arange(10, 90).tolist())\n",
    "\n",
    "for i in range(1000):\n",
    "    print(i, end='\\r')\n",
    "    u_min = np.random.uniform(-1, 1, T)\n",
    "    u_max = np.random.uniform(-1, 1, T)\n",
    "    x_min = np.random.uniform(-1, 1, T)\n",
    "    x_max = np.random.uniform(-1, 1, T)\n",
    "\n",
    "    result = b_fast(A, T, active, u_min, u_max, x_min, x_max)\n",
    "\n"
   ]
  },
  {
   "cell_type": "code",
   "execution_count": 73,
   "metadata": {},
   "outputs": [
    {
     "data": {
      "text/plain": [
       "(100, 200)"
      ]
     },
     "execution_count": 73,
     "metadata": {},
     "output_type": "execute_result"
    }
   ],
   "source": [
    "N = 100\n",
    "u_min = np.random.uniform(-1, 1, (N,T))\n",
    "u_max = np.random.uniform(-1, 1, (N,T))\n",
    "x_min = np.random.uniform(-1, 1, (N,T))\n",
    "x_max = np.random.uniform(-1, 1, (N,T))\n",
    "u_min.shape"
   ]
  },
  {
   "cell_type": "code",
   "execution_count": 74,
   "metadata": {},
   "outputs": [],
   "source": [
    "T = 200\n",
    "c = np.random.permutation(np.arange(T))\n",
    "As = [set(c[:i].tolist()) for i in range(1,T+1)]\n",
    "a = [np.sum([b_fast(A, T, active, u_min[i], u_max[i], x_min[i], x_max[i]) for i in range(N)]) for A in As]"
   ]
  },
  {
   "cell_type": "code",
   "execution_count": null,
   "metadata": {},
   "outputs": [],
   "source": []
  }
 ],
 "metadata": {
  "kernelspec": {
   "display_name": "flextroid-p5aUCEPI-py3.13",
   "language": "python",
   "name": "python3"
  },
  "language_info": {
   "codemirror_mode": {
    "name": "ipython",
    "version": 3
   },
   "file_extension": ".py",
   "mimetype": "text/x-python",
   "name": "python",
   "nbconvert_exporter": "python",
   "pygments_lexer": "ipython3",
   "version": "3.13.1"
  }
 },
 "nbformat": 4,
 "nbformat_minor": 2
}
