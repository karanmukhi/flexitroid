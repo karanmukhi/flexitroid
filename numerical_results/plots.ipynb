{
 "cells": [
  {
   "cell_type": "code",
   "execution_count": 254,
   "metadata": {},
   "outputs": [],
   "source": [
    "from numerical_results.plot_formatting import box_plot, population_time_plot, benchmark_plot"
   ]
  },
  {
   "cell_type": "code",
   "execution_count": 289,
   "metadata": {},
   "outputs": [],
   "source": [
    "population_path = '../numerical_results/data/population_time.csv'\n",
    "benchmark_path = '../numerical_results/data/benchmarking_time.csv'\n",
    "case_study_path = '../numerical_results/data/case_study4_50.csv'\n",
    "\n",
    "cost_fig_path = './figures/cost_plot.pdf'\n",
    "population_fig_path = './figures/population_time_plot.pdf'\n",
    "benchmark_fig_path = './figures/benchmark_plot.pdf'\n",
    "\n",
    "box_plot(case_study_path, cost_fig_path)\n",
    "population_time_plot(population_path, population_fig_path)\n",
    "benchmark_plot(benchmark_path, benchmark_fig_path)"
   ]
  }
 ],
 "metadata": {
  "kernelspec": {
   "display_name": "flextroid-p5aUCEPI-py3.13",
   "language": "python",
   "name": "python3"
  },
  "language_info": {
   "codemirror_mode": {
    "name": "ipython",
    "version": 3
   },
   "file_extension": ".py",
   "mimetype": "text/x-python",
   "name": "python",
   "nbconvert_exporter": "python",
   "pygments_lexer": "ipython3",
   "version": "3.13.1"
  }
 },
 "nbformat": 4,
 "nbformat_minor": 2
}
